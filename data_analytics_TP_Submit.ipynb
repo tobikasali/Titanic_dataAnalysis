{
 "cells": [
  {
   "cell_type": "markdown",
   "metadata": {},
   "source": [
    "# Data Analysis Project\n",
    "\n",
    "## Investigating the Titanic Dataset\n",
    "\n",
    "\n",
    "### Questions:\n",
    "\n",
    "1. What factors made people more likely to survive?\n",
    "\n",
    "2. Was it better to be a Female  or Male  on the Titanic?\n",
    "\n",
    "3. Where the More prestigious passengers given a chnace to get of first?\n",
    "\n",
    "4. Where children more or less likely to survive the disaster?\n",
    "\n"
   ]
  },
  {
   "cell_type": "markdown",
   "metadata": {},
   "source": [
    "### Exploring the data"
   ]
  },
  {
   "cell_type": "code",
   "execution_count": 72,
   "metadata": {
    "collapsed": false
   },
   "outputs": [
    {
     "name": "stdout",
     "output_type": "stream",
     "text": [
      "Populating the interactive namespace from numpy and matplotlib\n"
     ]
    }
   ],
   "source": [
    "## Importing all libraries at the start\n",
    "import scipy.stats\n",
    "import pandas as pd\n",
    "import numpy as np\n",
    "import seaborn as sns\n",
    "import matplotlib.mlab as mlab\n",
    "import matplotlib.pyplot as plt\n",
    "sns.set_style('whitegrid')\n",
    "%matplotlib inline\n",
    "%pylab inline\n"
   ]
  },
  {
   "cell_type": "code",
   "execution_count": 22,
   "metadata": {
    "collapsed": false
   },
   "outputs": [
    {
     "data": {
      "text/html": [
       "<div>\n",
       "<table border=\"1\" class=\"dataframe\">\n",
       "  <thead>\n",
       "    <tr style=\"text-align: right;\">\n",
       "      <th></th>\n",
       "      <th>PassengerId</th>\n",
       "      <th>Survived</th>\n",
       "      <th>Pclass</th>\n",
       "      <th>Name</th>\n",
       "      <th>Sex</th>\n",
       "      <th>Age</th>\n",
       "      <th>SibSp</th>\n",
       "      <th>Parch</th>\n",
       "      <th>Ticket</th>\n",
       "      <th>Fare</th>\n",
       "      <th>Cabin</th>\n",
       "      <th>Embarked</th>\n",
       "    </tr>\n",
       "  </thead>\n",
       "  <tbody>\n",
       "    <tr>\n",
       "      <th>0</th>\n",
       "      <td>1</td>\n",
       "      <td>0</td>\n",
       "      <td>3</td>\n",
       "      <td>Braund, Mr. Owen Harris</td>\n",
       "      <td>male</td>\n",
       "      <td>22.0</td>\n",
       "      <td>1</td>\n",
       "      <td>0</td>\n",
       "      <td>A/5 21171</td>\n",
       "      <td>7.2500</td>\n",
       "      <td>NaN</td>\n",
       "      <td>S</td>\n",
       "    </tr>\n",
       "    <tr>\n",
       "      <th>1</th>\n",
       "      <td>2</td>\n",
       "      <td>1</td>\n",
       "      <td>1</td>\n",
       "      <td>Cumings, Mrs. John Bradley (Florence Briggs Th...</td>\n",
       "      <td>female</td>\n",
       "      <td>38.0</td>\n",
       "      <td>1</td>\n",
       "      <td>0</td>\n",
       "      <td>PC 17599</td>\n",
       "      <td>71.2833</td>\n",
       "      <td>C85</td>\n",
       "      <td>C</td>\n",
       "    </tr>\n",
       "    <tr>\n",
       "      <th>2</th>\n",
       "      <td>3</td>\n",
       "      <td>1</td>\n",
       "      <td>3</td>\n",
       "      <td>Heikkinen, Miss. Laina</td>\n",
       "      <td>female</td>\n",
       "      <td>26.0</td>\n",
       "      <td>0</td>\n",
       "      <td>0</td>\n",
       "      <td>STON/O2. 3101282</td>\n",
       "      <td>7.9250</td>\n",
       "      <td>NaN</td>\n",
       "      <td>S</td>\n",
       "    </tr>\n",
       "    <tr>\n",
       "      <th>3</th>\n",
       "      <td>4</td>\n",
       "      <td>1</td>\n",
       "      <td>1</td>\n",
       "      <td>Futrelle, Mrs. Jacques Heath (Lily May Peel)</td>\n",
       "      <td>female</td>\n",
       "      <td>35.0</td>\n",
       "      <td>1</td>\n",
       "      <td>0</td>\n",
       "      <td>113803</td>\n",
       "      <td>53.1000</td>\n",
       "      <td>C123</td>\n",
       "      <td>S</td>\n",
       "    </tr>\n",
       "    <tr>\n",
       "      <th>4</th>\n",
       "      <td>5</td>\n",
       "      <td>0</td>\n",
       "      <td>3</td>\n",
       "      <td>Allen, Mr. William Henry</td>\n",
       "      <td>male</td>\n",
       "      <td>35.0</td>\n",
       "      <td>0</td>\n",
       "      <td>0</td>\n",
       "      <td>373450</td>\n",
       "      <td>8.0500</td>\n",
       "      <td>NaN</td>\n",
       "      <td>S</td>\n",
       "    </tr>\n",
       "  </tbody>\n",
       "</table>\n",
       "</div>"
      ],
      "text/plain": [
       "   PassengerId  Survived  Pclass  \\\n",
       "0            1         0       3   \n",
       "1            2         1       1   \n",
       "2            3         1       3   \n",
       "3            4         1       1   \n",
       "4            5         0       3   \n",
       "\n",
       "                                                Name     Sex   Age  SibSp  \\\n",
       "0                            Braund, Mr. Owen Harris    male  22.0      1   \n",
       "1  Cumings, Mrs. John Bradley (Florence Briggs Th...  female  38.0      1   \n",
       "2                             Heikkinen, Miss. Laina  female  26.0      0   \n",
       "3       Futrelle, Mrs. Jacques Heath (Lily May Peel)  female  35.0      1   \n",
       "4                           Allen, Mr. William Henry    male  35.0      0   \n",
       "\n",
       "   Parch            Ticket     Fare Cabin Embarked  \n",
       "0      0         A/5 21171   7.2500   NaN        S  \n",
       "1      0          PC 17599  71.2833   C85        C  \n",
       "2      0  STON/O2. 3101282   7.9250   NaN        S  \n",
       "3      0            113803  53.1000  C123        S  \n",
       "4      0            373450   8.0500   NaN        S  "
      ]
     },
     "execution_count": 22,
     "metadata": {},
     "output_type": "execute_result"
    }
   ],
   "source": [
    "## Import the titanic data from csv as a dataframe\n",
    "titanic_df = pd.read_csv('U:/TASKS/Data_Analytics/Data_Analysis/Titanic_data/__MACOSX/Titanic_data/titanic-data.csv')\n",
    "\n",
    "##titanic_df = pd.read_csv('/Users/tobikasali/Documents/datascience/data_analytics/Titanic_data/titanic-data.csv')\n",
    "\n",
    "## Take a quick look at the data\n",
    "titanic_df.head()"
   ]
  },
  {
   "cell_type": "code",
   "execution_count": 23,
   "metadata": {
    "collapsed": false
   },
   "outputs": [
    {
     "name": "stdout",
     "output_type": "stream",
     "text": [
      "PassengerId      int64\n",
      "Survived         int64\n",
      "Pclass           int64\n",
      "Name            object\n",
      "Sex             object\n",
      "Age            float64\n",
      "SibSp            int64\n",
      "Parch            int64\n",
      "Ticket          object\n",
      "Fare           float64\n",
      "Cabin           object\n",
      "Embarked        object\n",
      "dtype: object\n"
     ]
    }
   ],
   "source": [
    "print titanic_df.dtypes\n",
    "\n"
   ]
  },
  {
   "cell_type": "code",
   "execution_count": 24,
   "metadata": {
    "collapsed": false
   },
   "outputs": [
    {
     "data": {
      "text/plain": [
       "(891, 12)"
      ]
     },
     "execution_count": 24,
     "metadata": {},
     "output_type": "execute_result"
    }
   ],
   "source": [
    "## Get the number of rows of data that we have\n",
    "titanic_df.shape "
   ]
  },
  {
   "cell_type": "code",
   "execution_count": 25,
   "metadata": {
    "collapsed": false
   },
   "outputs": [
    {
     "data": {
      "text/plain": [
       "342L"
      ]
     },
     "execution_count": 25,
     "metadata": {},
     "output_type": "execute_result"
    }
   ],
   "source": [
    "##Check the number of survivors\n",
    "\n",
    "titanic_df['Survived'].sum()"
   ]
  },
  {
   "cell_type": "code",
   "execution_count": 26,
   "metadata": {
    "collapsed": false
   },
   "outputs": [
    {
     "data": {
      "text/plain": [
       "PassengerId    False\n",
       "Survived       False\n",
       "Pclass         False\n",
       "Name           False\n",
       "Sex            False\n",
       "Age             True\n",
       "SibSp          False\n",
       "Parch          False\n",
       "Ticket         False\n",
       "Fare           False\n",
       "Cabin           True\n",
       "Embarked        True\n",
       "dtype: bool"
      ]
     },
     "execution_count": 26,
     "metadata": {},
     "output_type": "execute_result"
    }
   ],
   "source": [
    "##Check if there are any Columns with Nan or Null data\n",
    "pd.isnull(titanic_df).any() ## Returns Columns within the dataframe that have nan values\n",
    "\n"
   ]
  },
  {
   "cell_type": "markdown",
   "metadata": {},
   "source": [
    "We can see here that some variables do have Null values, therefore we'll have to deal with the Null values before perfroming any analysis with those variables."
   ]
  },
  {
   "cell_type": "markdown",
   "metadata": {},
   "source": [
    "##  Interesting Variables"
   ]
  },
  {
   "cell_type": "markdown",
   "metadata": {},
   "source": [
    "Looking at the data,  I am very interested in the Age, Sex and PClass variables and how these are factors that affected surviing the disaster; parly due to anecdotal evidence of how people were chosen to get on lifeboats on the Titanic.\n",
    "\n",
    "##### The Independent Variables are:\n",
    "\n",
    "*  Gender\n",
    "*  Pclass\n",
    "*  Age\n",
    "\n",
    "##### The Dependent Variable is:\n",
    "\n",
    "*  Survived\n",
    "\n",
    "\n"
   ]
  },
  {
   "cell_type": "markdown",
   "metadata": {},
   "source": [
    "### Analysis of factors"
   ]
  },
  {
   "cell_type": "markdown",
   "metadata": {},
   "source": [
    "#### 1. Gender\n",
    "\n",
    "The first variabe I am interested in is Gender. Was it better  to be a Male or Female on the titanic? Were Women more likely to survive than Men? Let's find out!"
   ]
  },
  {
   "cell_type": "code",
   "execution_count": 27,
   "metadata": {
    "collapsed": false
   },
   "outputs": [
    {
     "data": {
      "text/plain": [
       "male      577\n",
       "female    314\n",
       "Name: Sex, dtype: int64"
      ]
     },
     "execution_count": 27,
     "metadata": {},
     "output_type": "execute_result"
    }
   ],
   "source": [
    "## Check the total number of Males and Females on the titanic.\n",
    "\n",
    "titanic_df['Sex'].value_counts()"
   ]
  },
  {
   "cell_type": "code",
   "execution_count": 28,
   "metadata": {
    "collapsed": false
   },
   "outputs": [
    {
     "data": {
      "text/html": [
       "<div>\n",
       "<table border=\"1\" class=\"dataframe\">\n",
       "  <thead>\n",
       "    <tr style=\"text-align: right;\">\n",
       "      <th></th>\n",
       "      <th>Survived</th>\n",
       "      <th>Sex</th>\n",
       "    </tr>\n",
       "  </thead>\n",
       "  <tbody>\n",
       "    <tr>\n",
       "      <th>0</th>\n",
       "      <td>0</td>\n",
       "      <td>male</td>\n",
       "    </tr>\n",
       "    <tr>\n",
       "      <th>1</th>\n",
       "      <td>1</td>\n",
       "      <td>female</td>\n",
       "    </tr>\n",
       "    <tr>\n",
       "      <th>2</th>\n",
       "      <td>1</td>\n",
       "      <td>female</td>\n",
       "    </tr>\n",
       "    <tr>\n",
       "      <th>3</th>\n",
       "      <td>1</td>\n",
       "      <td>female</td>\n",
       "    </tr>\n",
       "    <tr>\n",
       "      <th>4</th>\n",
       "      <td>0</td>\n",
       "      <td>male</td>\n",
       "    </tr>\n",
       "  </tbody>\n",
       "</table>\n",
       "</div>"
      ],
      "text/plain": [
       "   Survived     Sex\n",
       "0         0    male\n",
       "1         1  female\n",
       "2         1  female\n",
       "3         1  female\n",
       "4         0    male"
      ]
     },
     "execution_count": 28,
     "metadata": {},
     "output_type": "execute_result"
    }
   ],
   "source": [
    "## Filter out the Columns needed to look at Gender based survival\n",
    "\n",
    "Survived_Gender = titanic_df[['Survived','Sex']]\n",
    "Survived_Gender.head()"
   ]
  },
  {
   "cell_type": "code",
   "execution_count": 29,
   "metadata": {
    "collapsed": false
   },
   "outputs": [],
   "source": [
    "## Group the number of Survivors by Gender so we can see the number of Survivors per gender.\n",
    "\n",
    "SG_group = Survived_Gender.groupby('Sex')"
   ]
  },
  {
   "cell_type": "code",
   "execution_count": 30,
   "metadata": {
    "collapsed": false
   },
   "outputs": [
    {
     "data": {
      "text/html": [
       "<div>\n",
       "<table border=\"1\" class=\"dataframe\">\n",
       "  <thead>\n",
       "    <tr style=\"text-align: right;\">\n",
       "      <th></th>\n",
       "      <th>Survived</th>\n",
       "    </tr>\n",
       "    <tr>\n",
       "      <th>Sex</th>\n",
       "      <th></th>\n",
       "    </tr>\n",
       "  </thead>\n",
       "  <tbody>\n",
       "    <tr>\n",
       "      <th>female</th>\n",
       "      <td>233</td>\n",
       "    </tr>\n",
       "    <tr>\n",
       "      <th>male</th>\n",
       "      <td>109</td>\n",
       "    </tr>\n",
       "  </tbody>\n",
       "</table>\n",
       "</div>"
      ],
      "text/plain": [
       "        Survived\n",
       "Sex             \n",
       "female       233\n",
       "male         109"
      ]
     },
     "execution_count": 30,
     "metadata": {},
     "output_type": "execute_result"
    }
   ],
   "source": [
    "##find the number of survivors by Gender\n",
    "\n",
    "SG_sum = SG_group.sum()\n",
    "SG_sum.head()"
   ]
  },
  {
   "cell_type": "code",
   "execution_count": 31,
   "metadata": {
    "collapsed": false
   },
   "outputs": [
    {
     "data": {
      "text/html": [
       "<div>\n",
       "<table border=\"1\" class=\"dataframe\">\n",
       "  <thead>\n",
       "    <tr style=\"text-align: right;\">\n",
       "      <th></th>\n",
       "      <th>Totals</th>\n",
       "    </tr>\n",
       "    <tr>\n",
       "      <th>Sex</th>\n",
       "      <th></th>\n",
       "    </tr>\n",
       "  </thead>\n",
       "  <tbody>\n",
       "    <tr>\n",
       "      <th>female</th>\n",
       "      <td>314</td>\n",
       "    </tr>\n",
       "    <tr>\n",
       "      <th>male</th>\n",
       "      <td>577</td>\n",
       "    </tr>\n",
       "  </tbody>\n",
       "</table>\n",
       "</div>"
      ],
      "text/plain": [
       "        Totals\n",
       "Sex           \n",
       "female     314\n",
       "male       577"
      ]
     },
     "execution_count": 31,
     "metadata": {},
     "output_type": "execute_result"
    }
   ],
   "source": [
    "## Get the total number of Males and Females and rename the column to totals\n",
    "\n",
    "SG_counts= pd.DataFrame(titanic_df.groupby('Sex').size().rename('Totals'))\n",
    "\n",
    "SG_counts.head()"
   ]
  },
  {
   "cell_type": "markdown",
   "metadata": {},
   "source": [
    "Looking at these figures, there were clearly more Men than Women, however, the number of males who survived was much lower than female"
   ]
  },
  {
   "cell_type": "code",
   "execution_count": 32,
   "metadata": {
    "collapsed": false
   },
   "outputs": [
    {
     "name": "stdout",
     "output_type": "stream",
     "text": [
      "        Survived  Totals\n",
      "Sex                     \n",
      "female       233     314\n",
      "male         109     577\n"
     ]
    }
   ],
   "source": [
    "#Merge the two dataframes so we can compare the number of survivors per gender to the total number for each Gender\n",
    "\n",
    "SG_totals = pd.concat([SG_sum, SG_counts], axis=1, join_axes=[SG_sum.index])\n",
    "\n",
    "print SG_totals\n",
    "\n"
   ]
  },
  {
   "cell_type": "code",
   "execution_count": 33,
   "metadata": {
    "collapsed": false
   },
   "outputs": [
    {
     "data": {
      "text/plain": [
       "<matplotlib.axes._subplots.AxesSubplot at 0x9fa76b0>"
      ]
     },
     "execution_count": 33,
     "metadata": {},
     "output_type": "execute_result"
    },
    {
     "data": {
      "image/png": "[encoded data removed]",
      "text/plain": [
       "<matplotlib.figure.Figure at 0x9fa4f30>"
      ]
     },
     "metadata": {},
     "output_type": "display_data"
    }
   ],
   "source": [
    "## Create a bar chart for the Survived Gender data\n",
    "\n",
    "my_gender_plot = SG_totals.plot(kind='bar', legend=None, title=\"Number of survivors by Gender\", color= ['m', 'b'])\n",
    "my_gender_plot.set_xlabel(\"Gender\")\n",
    "my_gender_plot.set_ylabel(\"Survived (#)\")\n",
    "my_gender_plot.legend([\"Survived\",\"Total\"], loc=9,ncol=3)\n",
    "my_gender_plot"
   ]
  },
  {
   "cell_type": "markdown",
   "metadata": {},
   "source": [
    "This Bar chart shows the number of females and males that survived compared to the total number of males and females in our dataset. \n",
    "\n",
    "Looking at this, it is clear that a higher percentage of women survived than Men; at least over 50%. To get precise figures, we can calculate survival percetnage for each Gender."
   ]
  },
  {
   "cell_type": "code",
   "execution_count": 34,
   "metadata": {
    "collapsed": true
   },
   "outputs": [],
   "source": [
    "## Create a function to get the survival percentage for each group of data\n",
    "\n",
    "def Percentage_survivors(group_totals):\n",
    "    group_totals['Survival Percentage'] = (group_totals['Survived'].div(group_totals['Totals']) * 100)\n",
    "    return group_totals\n"
   ]
  },
  {
   "cell_type": "code",
   "execution_count": 35,
   "metadata": {
    "collapsed": false
   },
   "outputs": [
    {
     "name": "stdout",
     "output_type": "stream",
     "text": [
      "        Survived  Totals  Survival Percentage\n",
      "Sex                                          \n",
      "female       233     314            74.203822\n",
      "male         109     577            18.890815\n"
     ]
    }
   ],
   "source": [
    "## The Percnetage of survivors for each Gender\n",
    "\n",
    "SG_Percentage = Percentage_survivors(SG_totals)\n",
    "\n",
    "print SG_Percentage"
   ]
  },
  {
   "cell_type": "markdown",
   "metadata": {},
   "source": [
    "The survival percentage calculated above shows that women were 4 times more likely to survive than Men... \n",
    "\n",
    "We'll take a closer look with Statistics"
   ]
  },
  {
   "cell_type": "code",
   "execution_count": 36,
   "metadata": {
    "collapsed": false
   },
   "outputs": [
    {
     "data": {
      "text/html": [
       "<div>\n",
       "<table border=\"1\" class=\"dataframe\">\n",
       "  <thead>\n",
       "    <tr style=\"text-align: right;\">\n",
       "      <th></th>\n",
       "      <th>Survived</th>\n",
       "    </tr>\n",
       "    <tr>\n",
       "      <th>Sex</th>\n",
       "      <th></th>\n",
       "    </tr>\n",
       "  </thead>\n",
       "  <tbody>\n",
       "    <tr>\n",
       "      <th>female</th>\n",
       "      <td>0.742038</td>\n",
       "    </tr>\n",
       "    <tr>\n",
       "      <th>male</th>\n",
       "      <td>0.188908</td>\n",
       "    </tr>\n",
       "  </tbody>\n",
       "</table>\n",
       "</div>"
      ],
      "text/plain": [
       "        Survived\n",
       "Sex             \n",
       "female  0.742038\n",
       "male    0.188908"
      ]
     },
     "execution_count": 36,
     "metadata": {},
     "output_type": "execute_result"
    }
   ],
   "source": [
    "SG_group.mean()\n"
   ]
  },
  {
   "cell_type": "markdown",
   "metadata": {},
   "source": [
    "The mean(s) above shows us what we already suspected about women being 4 times more likely to survive than Men."
   ]
  },
  {
   "cell_type": "raw",
   "metadata": {},
   "source": [
    "\n",
    "1.\tStatistical Test\n",
    "\n",
    "The Z-score test for two population proportions is used when we want to know whether two population proportions (in our case Females and Males) differ significantly from  one another on some categorical variable (Survival). \n",
    "\n",
    "2. Hypothesis:\n",
    "\n",
    "Null Hypothesis: There is no difference between the rate of survival for Female and Male Survivors\n",
    "\n",
    "Alternative Hypothesis: The rate  of  survivals for Females is higher than that of Male survivors.\n",
    "\n",
    "The Hypothesis is represented as follows:\n",
    "\n",
    "H0: pF - pM = 0 (\"the difference between the rates is equal to 0\")\t\n",
    "\n",
    "H1: pF - pM > 0 (\"the difference between population raates is not 0\")\ti.e there is a difference between the rates of survuvals  – because Females were more likely to survive than males. \n",
    "\n",
    "pF is the rate of Female survivors\n",
    "pM is the rate of Male Survivors.\n",
    "\n",
    "\n",
    "To perform the tests, i'll use the following conditions:\n",
    "\n",
    "  \tsignificance level α=0.05\n",
    "    Confidence Level of 95%\n",
    "    Sample size=891\n",
    "\n",
    "The Critical value and Rejection Region:\n",
    "\n",
    "For α=0.05, \n",
    "\n",
    "     Rejection region: Z > 1.96"
   ]
  },
  {
   "cell_type": "markdown",
   "metadata": {},
   "source": [
    "The formilar for the Z test is:\n",
    "\n",
    "<img src=\"two-proprtion-z-test.png\">\n",
    "\n",
    "\n",
    "\n",
    "\n",
    "Step 1: Find the two proportions:\n",
    "\n",
    "* P1 = 233/314 = 0.74 (that’s 74%)\n",
    "* P2 = 109/577 = 0.18 (that’s 18%).\n",
    "\n",
    "\n",
    "Step 2: Find the overall sample proportion. The numerator will be the total number of Survivors for both Males and Females and the denominator is the total number of Males and Females..\n",
    "\n",
    "\n",
    "* p = (233 + 109) / (314 + 577) = 0.38\n",
    "\n",
    "<img src=\"Z_score_calculation_gender.PNG\">\n",
    "\n",
    "Solving the formula, we get:\n",
    "\n",
    "\n",
    "Z = 18.6\n",
    "\n",
    "The p-value is 0. The result is significant at p <0.05. \n",
    "\n",
    "18.6 > 1.96, so we can reject the null hypothesis that there is no difference in the rates/proportion of survival between Females and Males.\n",
    "\n"
   ]
  },
  {
   "cell_type": "markdown",
   "metadata": {},
   "source": [
    "III. Conclusion\n",
    "\n",
    "With a P value less than 0.05,  survival for females represents a statistically significant difference to the rate of  male survival.\n",
    "\n",
    "Although the 891 number of people here is a sample of the popluation of Survivors, The P value is low enough that I am willing to take a chance that the rate of survival for women is higher than men for the whole popluation on the titanic.\n",
    "\n",
    "I would say though  that I believe that the Culture of putting Women and Children first on Life boats could have accounted for this behavoir."
   ]
  },
  {
   "cell_type": "markdown",
   "metadata": {},
   "source": [
    "#### PClass - This is the Passenger Class - \n",
    "\n",
    "There are 3 classes represented here and it is believed that they represent the following:\n",
    "\n",
    "1 - First Class\n",
    "2 - Second Class\n",
    "3 - Third Class\n",
    "\n",
    "Would there be a difference in the rate of survival for these 3 class? if so, what could account for this? Promixity to the Life boats? Preference to 1st Class passengers?\n",
    "\n",
    "As we did before, we will start by extracting the columns we need."
   ]
  },
  {
   "cell_type": "code",
   "execution_count": 37,
   "metadata": {
    "collapsed": false
   },
   "outputs": [
    {
     "data": {
      "text/html": [
       "<div>\n",
       "<table border=\"1\" class=\"dataframe\">\n",
       "  <thead>\n",
       "    <tr style=\"text-align: right;\">\n",
       "      <th></th>\n",
       "      <th>Survived</th>\n",
       "      <th>Pclass</th>\n",
       "    </tr>\n",
       "  </thead>\n",
       "  <tbody>\n",
       "    <tr>\n",
       "      <th>0</th>\n",
       "      <td>0</td>\n",
       "      <td>3</td>\n",
       "    </tr>\n",
       "    <tr>\n",
       "      <th>1</th>\n",
       "      <td>1</td>\n",
       "      <td>1</td>\n",
       "    </tr>\n",
       "    <tr>\n",
       "      <th>2</th>\n",
       "      <td>1</td>\n",
       "      <td>3</td>\n",
       "    </tr>\n",
       "    <tr>\n",
       "      <th>3</th>\n",
       "      <td>1</td>\n",
       "      <td>1</td>\n",
       "    </tr>\n",
       "    <tr>\n",
       "      <th>4</th>\n",
       "      <td>0</td>\n",
       "      <td>3</td>\n",
       "    </tr>\n",
       "  </tbody>\n",
       "</table>\n",
       "</div>"
      ],
      "text/plain": [
       "   Survived  Pclass\n",
       "0         0       3\n",
       "1         1       1\n",
       "2         1       3\n",
       "3         1       1\n",
       "4         0       3"
      ]
     },
     "execution_count": 37,
     "metadata": {},
     "output_type": "execute_result"
    }
   ],
   "source": [
    "#### Filter out the Columns needed to look at Passenger Class based survival\n",
    "\n",
    "Survived_Pclass = titanic_df[['Survived','Pclass']]\n",
    "Survived_Pclass.head()                         \n",
    "                           "
   ]
  },
  {
   "cell_type": "code",
   "execution_count": 39,
   "metadata": {
    "collapsed": true
   },
   "outputs": [],
   "source": [
    "### Group by Passenger class so we can see the number of survivors in each class\n",
    "\n",
    "SP_group = Survived_Pclass.groupby(['Pclass'])\n"
   ]
  },
  {
   "cell_type": "code",
   "execution_count": 40,
   "metadata": {
    "collapsed": false
   },
   "outputs": [
    {
     "data": {
      "text/html": [
       "<div>\n",
       "<table border=\"1\" class=\"dataframe\">\n",
       "  <thead>\n",
       "    <tr style=\"text-align: right;\">\n",
       "      <th></th>\n",
       "      <th>Survived</th>\n",
       "    </tr>\n",
       "    <tr>\n",
       "      <th>Pclass</th>\n",
       "      <th></th>\n",
       "    </tr>\n",
       "  </thead>\n",
       "  <tbody>\n",
       "    <tr>\n",
       "      <th>1</th>\n",
       "      <td>136</td>\n",
       "    </tr>\n",
       "    <tr>\n",
       "      <th>2</th>\n",
       "      <td>87</td>\n",
       "    </tr>\n",
       "    <tr>\n",
       "      <th>3</th>\n",
       "      <td>119</td>\n",
       "    </tr>\n",
       "  </tbody>\n",
       "</table>\n",
       "</div>"
      ],
      "text/plain": [
       "        Survived\n",
       "Pclass          \n",
       "1            136\n",
       "2             87\n",
       "3            119"
      ]
     },
     "execution_count": 40,
     "metadata": {},
     "output_type": "execute_result"
    }
   ],
   "source": [
    "SP_sum = SP_group.sum()\n",
    "SP_sum.head()"
   ]
  },
  {
   "cell_type": "markdown",
   "metadata": {},
   "source": [
    "Looking at these numbers, Pclass 1 and 3 have a similar number of survivors with Pclass2 a little behind, it appears that there might have not been much difference between the classes in terms of surviving the disaster"
   ]
  },
  {
   "cell_type": "code",
   "execution_count": 38,
   "metadata": {
    "collapsed": false
   },
   "outputs": [
    {
     "data": {
      "text/plain": [
       "<seaborn.axisgrid.FacetGrid at 0xa0d9b70>"
      ]
     },
     "execution_count": 38,
     "metadata": {},
     "output_type": "execute_result"
    },
    {
     "data": {
      "image/png": "[encoded data removed]",
      "text/plain": [
       "<matplotlib.figure.Figure at 0xa09abb0>"
      ]
     },
     "metadata": {},
     "output_type": "display_data"
    }
   ],
   "source": [
    "# Have a look at the a visualation of the Pclass data with group survivors..\n",
    "sns.factorplot('Pclass','Survived',order=[1,2,3], data=Survived_Pclass,size=5)"
   ]
  },
  {
   "cell_type": "markdown",
   "metadata": {},
   "source": [
    "However, the visualisation above indicates that there's a much bigger difference than the number of survivors suggest. It would be better if we compared the number of survivors to the actual number of people who were in each class; This would give us a more accurate picture of survivors in each Class"
   ]
  },
  {
   "cell_type": "code",
   "execution_count": 41,
   "metadata": {
    "collapsed": false
   },
   "outputs": [
    {
     "data": {
      "text/html": [
       "<div>\n",
       "<table border=\"1\" class=\"dataframe\">\n",
       "  <thead>\n",
       "    <tr style=\"text-align: right;\">\n",
       "      <th></th>\n",
       "      <th>Totals</th>\n",
       "    </tr>\n",
       "    <tr>\n",
       "      <th>Pclass</th>\n",
       "      <th></th>\n",
       "    </tr>\n",
       "  </thead>\n",
       "  <tbody>\n",
       "    <tr>\n",
       "      <th>1</th>\n",
       "      <td>216</td>\n",
       "    </tr>\n",
       "    <tr>\n",
       "      <th>2</th>\n",
       "      <td>184</td>\n",
       "    </tr>\n",
       "    <tr>\n",
       "      <th>3</th>\n",
       "      <td>491</td>\n",
       "    </tr>\n",
       "  </tbody>\n",
       "</table>\n",
       "</div>"
      ],
      "text/plain": [
       "        Totals\n",
       "Pclass        \n",
       "1          216\n",
       "2          184\n",
       "3          491"
      ]
     },
     "execution_count": 41,
     "metadata": {},
     "output_type": "execute_result"
    }
   ],
   "source": [
    "## Get the total number of passengers in each Class - This will enable us get a proportion of people who survived in each class\n",
    "\n",
    "SP_counts = pd.DataFrame(titanic_df.groupby('Pclass').size().rename('Totals'))\n",
    "\n",
    "SP_counts.head()"
   ]
  },
  {
   "cell_type": "code",
   "execution_count": 42,
   "metadata": {
    "collapsed": false
   },
   "outputs": [
    {
     "name": "stdout",
     "output_type": "stream",
     "text": [
      "        Survived  Totals\n",
      "Pclass                  \n",
      "1            136     216\n",
      "2             87     184\n",
      "3            119     491\n"
     ]
    }
   ],
   "source": [
    "#Merge the two dataframes so we can compare the number of survivors per gender to the total number for people that were in each Class\n",
    "\n",
    "SP_totals = pd.concat([SP_sum, SP_counts], axis=1, join_axes=[SP_sum.index])\n",
    "\n",
    "print SP_totals"
   ]
  },
  {
   "cell_type": "code",
   "execution_count": 43,
   "metadata": {
    "collapsed": false
   },
   "outputs": [
    {
     "name": "stdout",
     "output_type": "stream",
     "text": [
      "Populating the interactive namespace from numpy and matplotlib\n"
     ]
    },
    {
     "data": {
      "text/plain": [
       "<matplotlib.axes._subplots.AxesSubplot at 0xa2dfed0>"
      ]
     },
     "execution_count": 43,
     "metadata": {},
     "output_type": "execute_result"
    },
    {
     "data": {
      "image/png": "[encoded data removed]",
      "text/plain": [
       "<matplotlib.figure.Figure at 0x9fa4d10>"
      ]
     },
     "metadata": {},
     "output_type": "display_data"
    }
   ],
   "source": [
    "## Create a bar chart for the Passenger Class Data\n",
    "\n",
    "%pylab inline\n",
    "import matplotlib.mlab as mlab\n",
    "import matplotlib.pyplot as plt\n",
    "\n",
    "my_Pclass_plot = SP_totals.plot(kind='bar', legend=None, title=\"Number of survivors by Passenger Class\")\n",
    "my_Pclass_plot.set_xlabel(\"Passenger Class\")\n",
    "my_Pclass_plot.set_ylabel(\"Survived (#)\")\n",
    "my_Pclass_plot.legend([\"Survived\",\"Totals\"], loc=9,ncol=3)\n",
    "my_Pclass_plot"
   ]
  },
  {
   "cell_type": "markdown",
   "metadata": {},
   "source": [
    "The bar chart shows that although the number of survivors in each class is similar, the difference between the number of survivors and the total number of people in the class is much different - The most glaring difference is in the 3rd class, there were far more people in that class (more than twice as many as first class) and it didn't even have the highest number of survivors!\n",
    "\n",
    "We'll calulate the percnatge of survivors to the total number of people in the class below to get actual figures:"
   ]
  },
  {
   "cell_type": "code",
   "execution_count": 44,
   "metadata": {
    "collapsed": false
   },
   "outputs": [
    {
     "name": "stdout",
     "output_type": "stream",
     "text": [
      "        Survived  Totals  Survival Percentage\n",
      "Pclass                                       \n",
      "1            136     216            62.962963\n",
      "2             87     184            47.282609\n",
      "3            119     491            24.236253\n"
     ]
    }
   ],
   "source": [
    "## Have a Look at the survival percentage of each Passenger Class\n",
    "\n",
    "SP_Percentage = Percentage_survivors(SP_totals)\n",
    "\n",
    "print SP_Percentage"
   ]
  },
  {
   "cell_type": "markdown",
   "metadata": {},
   "source": [
    "From the above calcluations, more than half of the people in first class survived, while less than a thrid of people in 3rd class survived. "
   ]
  },
  {
   "cell_type": "markdown",
   "metadata": {
    "collapsed": true
   },
   "source": [
    "It appears that we have a higher percentage of People surviving in First Class; with the lowest in 3rd clas but do these differences represent a significant satistical difference? Let's take a look.\n"
   ]
  },
  {
   "cell_type": "code",
   "execution_count": 45,
   "metadata": {
    "collapsed": false
   },
   "outputs": [
    {
     "data": {
      "text/html": [
       "<div>\n",
       "<table border=\"1\" class=\"dataframe\">\n",
       "  <thead>\n",
       "    <tr style=\"text-align: right;\">\n",
       "      <th></th>\n",
       "      <th>Survived</th>\n",
       "    </tr>\n",
       "    <tr>\n",
       "      <th>Pclass</th>\n",
       "      <th></th>\n",
       "    </tr>\n",
       "  </thead>\n",
       "  <tbody>\n",
       "    <tr>\n",
       "      <th>1</th>\n",
       "      <td>0.629630</td>\n",
       "    </tr>\n",
       "    <tr>\n",
       "      <th>2</th>\n",
       "      <td>0.472826</td>\n",
       "    </tr>\n",
       "    <tr>\n",
       "      <th>3</th>\n",
       "      <td>0.242363</td>\n",
       "    </tr>\n",
       "  </tbody>\n",
       "</table>\n",
       "</div>"
      ],
      "text/plain": [
       "        Survived\n",
       "Pclass          \n",
       "1       0.629630\n",
       "2       0.472826\n",
       "3       0.242363"
      ]
     },
     "execution_count": 45,
     "metadata": {},
     "output_type": "execute_result"
    }
   ],
   "source": [
    "## Find the Average rate of survival for each Class\n",
    "SP_group.mean()\n"
   ]
  },
  {
   "cell_type": "code",
   "execution_count": 76,
   "metadata": {
    "collapsed": false
   },
   "outputs": [
    {
     "ename": "SyntaxError",
     "evalue": "invalid syntax (<ipython-input-76-82286bb41b08>, line 1)",
     "output_type": "error",
     "traceback": [
      "\u001b[1;36m  File \u001b[1;32m\"<ipython-input-76-82286bb41b08>\"\u001b[1;36m, line \u001b[1;32m1\u001b[0m\n\u001b[1;33m    1.\tStatistical Test\u001b[0m\n\u001b[1;37m      \t          ^\u001b[0m\n\u001b[1;31mSyntaxError\u001b[0m\u001b[1;31m:\u001b[0m invalid syntax\n"
     ]
    }
   ],
   "source": [
    "1.\tStatistical Test\n",
    "\n",
    "The Chi-Swquare test for two population proportions is used when we want to know whether two population proportions (in our case Females and Males) differ significantly from  one another on some categorical variable (Survival). \n",
    "\n",
    "2. Hypothesis:\n",
    "\n",
    "H0: Passenger Class and Surviving are Independent\n",
    "\n",
    "H1: Passenger Class and Surviving are  not Independent (there is some correlation between passenger Class and Surviving)\n",
    "\n",
    "To perform the tests, i'll use the following conditions:\n",
    "\n",
    "  \tsignificance level α=0.05\n",
    "    Confidence Level of 95%\n",
    "    Sample size=891\n",
    "    df= (2-1)(3-1)= 2\n",
    "\n",
    "The Critical value and Rejection Region:\n",
    "\n",
    "For α=0.05, \n",
    " \n",
    "     Rejection region: x2 > 5.9914\n",
    "            \n",
    "            \n",
    "            \n",
    "Using a contigency Table:\n",
    "    \n",
    "    \n",
    "\n"
   ]
  },
  {
   "cell_type": "code",
   "execution_count": null,
   "metadata": {
    "collapsed": true
   },
   "outputs": [],
   "source": [
    "import scipy.stats\n",
    "\n",
    "survival = [ [ 136, 87,119 ], [ 80, 97,372 ] ]\n",
    "chi2, p, ddof, expected = scipy.stats.chi2_contingency( survival )\n",
    "msg = \"Test Statistic: {}\\np-value: {}\\nDegrees of Freedom: {}\\n\"\n",
    "print( msg.format( chi2, p, ddof ) )\n",
    "print( expected )"
   ]
  },
  {
   "cell_type": "markdown",
   "metadata": {},
   "source": [
    "I. Hypothesis:\n",
    "\n",
    "Null Hypothesis: There is no difference between the mean of survivors from the different Passenger classes.\n",
    "\n",
    "Alternative Hypothesis: There is a difference in means in the survivors from different classes.\n",
    "\n",
    "\n",
    "\n",
    "II.\tStatistical Test\n",
    "\n",
    "The analysis of variance or ANOVA is a statistical inference test that lets you compare multiple groups at the same time.\n",
    "\n",
    "To perform the tests, i'll use the following conditions:\n",
    "\n",
    "  \tsignificance level α=0.01\n",
    "    Confidence Level of 99%\n",
    "    \n",
    "\n",
    "The Critical value and Rejection Region:\n",
    "\n",
    "For α=0.01, df1=2, df2=888\n",
    "\n",
    "    F: 4.605\n",
    "    Rejection region: F > 4.606\n",
    "    \n",
    "\n",
    "\n",
    "\n"
   ]
  },
  {
   "cell_type": "code",
   "execution_count": 46,
   "metadata": {
    "collapsed": false
   },
   "outputs": [
    {
     "data": {
      "text/plain": [
       "F_onewayResult(statistic=57.964817590910116, pvalue=2.1832474151179777e-24)"
      ]
     },
     "execution_count": 46,
     "metadata": {},
     "output_type": "execute_result"
    }
   ],
   "source": [
    "# Extract individual groups \n",
    "\n",
    "import matplotlib.pyplot as plt\n",
    "import scipy.stats as stats\n",
    "\n",
    "FirstClass =  Survived_Pclass[Survived_Pclass['Pclass'] == 1]\n",
    "SecondClass = Survived_Pclass[Survived_Pclass['Pclass'] ==  2]\n",
    "ThirdClass  = Survived_Pclass[Survived_Pclass['Pclass'] ==  3]\n",
    "\n",
    "# Perform the ANOVA\n",
    "stats.f_oneway(FirstClass['Survived'], SecondClass['Survived'],ThirdClass['Survived'])\n",
    "\n",
    "\n",
    "\n",
    "\n",
    "\n"
   ]
  },
  {
   "cell_type": "markdown",
   "metadata": {},
   "source": [
    "Calculated Values:\n",
    "\n",
    "data:  Survived and Pclass\n",
    "F = 57.9648, num df = 2, denom df = 888,  pvalue=2.1832474151179777e-24)\n",
    "\n",
    "\n",
    "The test output yields an F-statistic of  57.9648 and a p-value of pvalue=2.1832474151179777e-24, indicating that there is a significant difference between the means of each group.\n",
    "\n",
    "\n",
    "We don't know which group(s) caused the the  positive result. To check which groups differ after getting a positive ANOVA result, I will perform  a follow up test or \"post-hoc test\".\n",
    "\n",
    "\n"
   ]
  },
  {
   "cell_type": "code",
   "execution_count": 47,
   "metadata": {
    "collapsed": false
   },
   "outputs": [
    {
     "data": {
      "text/html": [
       "<table class=\"simpletable\">\n",
       "<caption>Multiple Comparison of Means - Tukey HSD,FWER=0.05</caption>\n",
       "<tr>\n",
       "  <th>group1</th> <th>group2</th> <th>meandiff</th>  <th>lower</th>   <th>upper</th>  <th>reject</th>\n",
       "</tr>\n",
       "<tr>\n",
       "     <td>1</td>      <td>2</td>    <td>-0.1568</td> <td>-0.2647</td> <td>-0.0489</td>  <td>True</td> \n",
       "</tr>\n",
       "<tr>\n",
       "     <td>1</td>      <td>3</td>    <td>-0.3873</td> <td>-0.4751</td> <td>-0.2994</td>  <td>True</td> \n",
       "</tr>\n",
       "<tr>\n",
       "     <td>2</td>      <td>3</td>    <td>-0.2305</td> <td>-0.3234</td> <td>-0.1375</td>  <td>True</td> \n",
       "</tr>\n",
       "</table>"
      ],
      "text/plain": [
       "<class 'statsmodels.iolib.table.SimpleTable'>"
      ]
     },
     "execution_count": 47,
     "metadata": {},
     "output_type": "execute_result"
    },
    {
     "data": {
      "image/png": "[encoded data removed]",
      "text/plain": [
       "<matplotlib.figure.Figure at 0xa2bacf0>"
      ]
     },
     "metadata": {},
     "output_type": "display_data"
    }
   ],
   "source": [
    "from statsmodels.stats.multicomp import pairwise_tukeyhsd\n",
    "\n",
    "tukey = pairwise_tukeyhsd(endog=Survived_Pclass['Survived'],     # Data\n",
    "                          groups=Survived_Pclass['Pclass'],  # Groups\n",
    "                          alpha=0.05)          # Significance level\n",
    "\n",
    "tukey.plot_simultaneous()    # Plot group confidence intervals\n",
    "plt.vlines(x=49.57,ymin=-0.5,ymax=4.5, color=\"red\")\n",
    "\n",
    "tukey.summary()              # See test summary"
   ]
  },
  {
   "cell_type": "markdown",
   "metadata": {},
   "source": [
    "III. Conclusion\n",
    "\n",
    "The Test suggests that we reject the Null hypothesis for all 3 pairs. However, there is a more signficant difference between Classes 1 and 3. \n",
    "\n",
    "It appears that a passenger was more likely to survive being in First Class than in Third class. First Class passengers were most likely the wealthiest on board and would have had been given first access to Lifeboats"
   ]
  },
  {
   "cell_type": "markdown",
   "metadata": {},
   "source": [
    "##### Age\n",
    "\n",
    "I'm going to look at Age and try to divide into two major groups. Under 18 and Over 18 ;Everyone under 18's can be classified as a child. I can then check if there were any differences between Adults and Children Surviving.\n",
    "\n"
   ]
  },
  {
   "cell_type": "code",
   "execution_count": 48,
   "metadata": {
    "collapsed": false
   },
   "outputs": [
    {
     "data": {
      "text/plain": [
       "PassengerId    False\n",
       "Survived       False\n",
       "Pclass         False\n",
       "Name           False\n",
       "Sex            False\n",
       "Age             True\n",
       "SibSp          False\n",
       "Parch          False\n",
       "Ticket         False\n",
       "Fare           False\n",
       "Cabin           True\n",
       "Embarked        True\n",
       "dtype: bool"
      ]
     },
     "execution_count": 48,
     "metadata": {},
     "output_type": "execute_result"
    }
   ],
   "source": [
    "##Check if there are any Columns with Nan or Null data\n",
    "pd.isnull(titanic_df).any() ## Returns Columns within the dataframe that have nan values\n",
    "\n"
   ]
  },
  {
   "cell_type": "markdown",
   "metadata": {},
   "source": [
    "The check above shows that there are null values in the  Age column, therefore, before any analysis can be done using Age as a variable, the rows which don't have any Age values will be removed.\n",
    "\n"
   ]
  },
  {
   "cell_type": "code",
   "execution_count": 49,
   "metadata": {
    "collapsed": false
   },
   "outputs": [
    {
     "name": "stdout",
     "output_type": "stream",
     "text": [
      "177\n"
     ]
    }
   ],
   "source": [
    "## Returns the number of rows in a particaular colum that has Nan Values\n",
    "\n",
    "print titanic_df['Age'].isnull().sum() "
   ]
  },
  {
   "cell_type": "markdown",
   "metadata": {},
   "source": [
    "There are 177 rows with missing values so these rows will be removed from the Data frame."
   ]
  },
  {
   "cell_type": "code",
   "execution_count": 50,
   "metadata": {
    "collapsed": false
   },
   "outputs": [
    {
     "data": {
      "text/plain": [
       "PassengerId    714\n",
       "Survived       714\n",
       "Pclass         714\n",
       "Name           714\n",
       "Sex            714\n",
       "Age            714\n",
       "SibSp          714\n",
       "Parch          714\n",
       "Ticket         714\n",
       "Fare           714\n",
       "Cabin          185\n",
       "Embarked       712\n",
       "dtype: int64"
      ]
     },
     "execution_count": 50,
     "metadata": {},
     "output_type": "execute_result"
    }
   ],
   "source": [
    "# I'm going to use a copy of the data set from the titanic_df and I don't want the SettingWithCopyWarning\n",
    "\n",
    "pd.options.mode.chained_assignment = None  # default='warn'\n",
    "\n",
    "## Subset Titanic data - removing rows that don't have an age value.  \n",
    "\n",
    "clean_age_titanic_df = titanic_df[titanic_df['Age'].notnull()]\n",
    "\n",
    "## Change the Age values from float to Integers\n",
    "\n",
    "clean_age_titanic_df.Age = clean_age_titanic_df.Age.astype(int)\n",
    "\n",
    "\n",
    "\n",
    "##clean_age_titanic_df.head()\n",
    "\n",
    "clean_age_titanic_df.count()"
   ]
  },
  {
   "cell_type": "code",
   "execution_count": 51,
   "metadata": {
    "collapsed": false
   },
   "outputs": [
    {
     "data": {
      "text/plain": [
       "<matplotlib.axes._subplots.AxesSubplot at 0xa2ee5d0>"
      ]
     },
     "execution_count": 51,
     "metadata": {},
     "output_type": "execute_result"
    },
    {
     "data": {
      "image/png": "[encoded data removed]",
      "text/plain": [
       "<matplotlib.figure.Figure at 0xa3dabb0>"
      ]
     },
     "metadata": {},
     "output_type": "display_data"
    }
   ],
   "source": [
    "## A histogram to visualise the distribution of Age data\n",
    "\n",
    "clean_age_titanic_df['Age'].hist(bins=70)"
   ]
  },
  {
   "cell_type": "markdown",
   "metadata": {},
   "source": [
    "There seems to be a tight cluster of Taller bins between the ages of 15 and 35 ; This shows that most people in our sample fall between these ages. At another time, I could compare this age group with the others maybe 35 and over and 15 and under but for this project I will stick to Under 18's as children and over 18's as Adults."
   ]
  },
  {
   "cell_type": "code",
   "execution_count": 52,
   "metadata": {
    "collapsed": false
   },
   "outputs": [],
   "source": [
    "## To get the 18's and above, I'll create a logical Test for each Age value to determine whether it's over 18's or Under 18's.\n",
    "\n",
    "pd.options.mode.chained_assignment = None  # default='warn'\n",
    "\n",
    "clean_age_titanic_df['Age_Class'] = clean_age_titanic_df.Age < 18\n",
    "\n",
    "\n",
    "\n",
    "\n",
    "\n"
   ]
  },
  {
   "cell_type": "code",
   "execution_count": 53,
   "metadata": {
    "collapsed": false
   },
   "outputs": [
    {
     "data": {
      "text/html": [
       "<div>\n",
       "<table border=\"1\" class=\"dataframe\">\n",
       "  <thead>\n",
       "    <tr style=\"text-align: right;\">\n",
       "      <th></th>\n",
       "      <th>PassengerId</th>\n",
       "      <th>Survived</th>\n",
       "      <th>Pclass</th>\n",
       "      <th>Name</th>\n",
       "      <th>Sex</th>\n",
       "      <th>Age</th>\n",
       "      <th>SibSp</th>\n",
       "      <th>Parch</th>\n",
       "      <th>Ticket</th>\n",
       "      <th>Fare</th>\n",
       "      <th>Cabin</th>\n",
       "      <th>Embarked</th>\n",
       "      <th>Age_Class</th>\n",
       "    </tr>\n",
       "  </thead>\n",
       "  <tbody>\n",
       "    <tr>\n",
       "      <th>0</th>\n",
       "      <td>1</td>\n",
       "      <td>0</td>\n",
       "      <td>3</td>\n",
       "      <td>Braund, Mr. Owen Harris</td>\n",
       "      <td>male</td>\n",
       "      <td>22</td>\n",
       "      <td>1</td>\n",
       "      <td>0</td>\n",
       "      <td>A/5 21171</td>\n",
       "      <td>7.2500</td>\n",
       "      <td>NaN</td>\n",
       "      <td>S</td>\n",
       "      <td>False</td>\n",
       "    </tr>\n",
       "    <tr>\n",
       "      <th>1</th>\n",
       "      <td>2</td>\n",
       "      <td>1</td>\n",
       "      <td>1</td>\n",
       "      <td>Cumings, Mrs. John Bradley (Florence Briggs Th...</td>\n",
       "      <td>female</td>\n",
       "      <td>38</td>\n",
       "      <td>1</td>\n",
       "      <td>0</td>\n",
       "      <td>PC 17599</td>\n",
       "      <td>71.2833</td>\n",
       "      <td>C85</td>\n",
       "      <td>C</td>\n",
       "      <td>False</td>\n",
       "    </tr>\n",
       "    <tr>\n",
       "      <th>2</th>\n",
       "      <td>3</td>\n",
       "      <td>1</td>\n",
       "      <td>3</td>\n",
       "      <td>Heikkinen, Miss. Laina</td>\n",
       "      <td>female</td>\n",
       "      <td>26</td>\n",
       "      <td>0</td>\n",
       "      <td>0</td>\n",
       "      <td>STON/O2. 3101282</td>\n",
       "      <td>7.9250</td>\n",
       "      <td>NaN</td>\n",
       "      <td>S</td>\n",
       "      <td>False</td>\n",
       "    </tr>\n",
       "    <tr>\n",
       "      <th>3</th>\n",
       "      <td>4</td>\n",
       "      <td>1</td>\n",
       "      <td>1</td>\n",
       "      <td>Futrelle, Mrs. Jacques Heath (Lily May Peel)</td>\n",
       "      <td>female</td>\n",
       "      <td>35</td>\n",
       "      <td>1</td>\n",
       "      <td>0</td>\n",
       "      <td>113803</td>\n",
       "      <td>53.1000</td>\n",
       "      <td>C123</td>\n",
       "      <td>S</td>\n",
       "      <td>False</td>\n",
       "    </tr>\n",
       "    <tr>\n",
       "      <th>4</th>\n",
       "      <td>5</td>\n",
       "      <td>0</td>\n",
       "      <td>3</td>\n",
       "      <td>Allen, Mr. William Henry</td>\n",
       "      <td>male</td>\n",
       "      <td>35</td>\n",
       "      <td>0</td>\n",
       "      <td>0</td>\n",
       "      <td>373450</td>\n",
       "      <td>8.0500</td>\n",
       "      <td>NaN</td>\n",
       "      <td>S</td>\n",
       "      <td>False</td>\n",
       "    </tr>\n",
       "  </tbody>\n",
       "</table>\n",
       "</div>"
      ],
      "text/plain": [
       "   PassengerId  Survived  Pclass  \\\n",
       "0            1         0       3   \n",
       "1            2         1       1   \n",
       "2            3         1       3   \n",
       "3            4         1       1   \n",
       "4            5         0       3   \n",
       "\n",
       "                                                Name     Sex  Age  SibSp  \\\n",
       "0                            Braund, Mr. Owen Harris    male   22      1   \n",
       "1  Cumings, Mrs. John Bradley (Florence Briggs Th...  female   38      1   \n",
       "2                             Heikkinen, Miss. Laina  female   26      0   \n",
       "3       Futrelle, Mrs. Jacques Heath (Lily May Peel)  female   35      1   \n",
       "4                           Allen, Mr. William Henry    male   35      0   \n",
       "\n",
       "   Parch            Ticket     Fare Cabin Embarked Age_Class  \n",
       "0      0         A/5 21171   7.2500   NaN        S     False  \n",
       "1      0          PC 17599  71.2833   C85        C     False  \n",
       "2      0  STON/O2. 3101282   7.9250   NaN        S     False  \n",
       "3      0            113803  53.1000  C123        S     False  \n",
       "4      0            373450   8.0500   NaN        S     False  "
      ]
     },
     "execution_count": 53,
     "metadata": {},
     "output_type": "execute_result"
    }
   ],
   "source": [
    "## Preview the data\n",
    "##True Indicates Yes - Age is under 18 and False - Indicates No, Age is over 18\n",
    "\n",
    "clean_age_titanic_df.head()"
   ]
  },
  {
   "cell_type": "code",
   "execution_count": 54,
   "metadata": {
    "collapsed": true
   },
   "outputs": [],
   "source": [
    "## I can now change all True values which represent people under 18 to Child and all False values who represent people over \n",
    "## 18 to Adult.\n",
    "\n",
    "clean_age_titanic_df['Age_Class'] = np.where(clean_age_titanic_df['Age_Class'] ==  True, 'Child', 'Adult')"
   ]
  },
  {
   "cell_type": "code",
   "execution_count": 55,
   "metadata": {
    "collapsed": false
   },
   "outputs": [
    {
     "data": {
      "text/html": [
       "<div>\n",
       "<table border=\"1\" class=\"dataframe\">\n",
       "  <thead>\n",
       "    <tr style=\"text-align: right;\">\n",
       "      <th></th>\n",
       "      <th>PassengerId</th>\n",
       "      <th>Survived</th>\n",
       "      <th>Pclass</th>\n",
       "      <th>Name</th>\n",
       "      <th>Sex</th>\n",
       "      <th>Age</th>\n",
       "      <th>SibSp</th>\n",
       "      <th>Parch</th>\n",
       "      <th>Ticket</th>\n",
       "      <th>Fare</th>\n",
       "      <th>Cabin</th>\n",
       "      <th>Embarked</th>\n",
       "      <th>Age_Class</th>\n",
       "    </tr>\n",
       "  </thead>\n",
       "  <tbody>\n",
       "    <tr>\n",
       "      <th>0</th>\n",
       "      <td>1</td>\n",
       "      <td>0</td>\n",
       "      <td>3</td>\n",
       "      <td>Braund, Mr. Owen Harris</td>\n",
       "      <td>male</td>\n",
       "      <td>22</td>\n",
       "      <td>1</td>\n",
       "      <td>0</td>\n",
       "      <td>A/5 21171</td>\n",
       "      <td>7.2500</td>\n",
       "      <td>NaN</td>\n",
       "      <td>S</td>\n",
       "      <td>Adult</td>\n",
       "    </tr>\n",
       "    <tr>\n",
       "      <th>1</th>\n",
       "      <td>2</td>\n",
       "      <td>1</td>\n",
       "      <td>1</td>\n",
       "      <td>Cumings, Mrs. John Bradley (Florence Briggs Th...</td>\n",
       "      <td>female</td>\n",
       "      <td>38</td>\n",
       "      <td>1</td>\n",
       "      <td>0</td>\n",
       "      <td>PC 17599</td>\n",
       "      <td>71.2833</td>\n",
       "      <td>C85</td>\n",
       "      <td>C</td>\n",
       "      <td>Adult</td>\n",
       "    </tr>\n",
       "    <tr>\n",
       "      <th>2</th>\n",
       "      <td>3</td>\n",
       "      <td>1</td>\n",
       "      <td>3</td>\n",
       "      <td>Heikkinen, Miss. Laina</td>\n",
       "      <td>female</td>\n",
       "      <td>26</td>\n",
       "      <td>0</td>\n",
       "      <td>0</td>\n",
       "      <td>STON/O2. 3101282</td>\n",
       "      <td>7.9250</td>\n",
       "      <td>NaN</td>\n",
       "      <td>S</td>\n",
       "      <td>Adult</td>\n",
       "    </tr>\n",
       "    <tr>\n",
       "      <th>3</th>\n",
       "      <td>4</td>\n",
       "      <td>1</td>\n",
       "      <td>1</td>\n",
       "      <td>Futrelle, Mrs. Jacques Heath (Lily May Peel)</td>\n",
       "      <td>female</td>\n",
       "      <td>35</td>\n",
       "      <td>1</td>\n",
       "      <td>0</td>\n",
       "      <td>113803</td>\n",
       "      <td>53.1000</td>\n",
       "      <td>C123</td>\n",
       "      <td>S</td>\n",
       "      <td>Adult</td>\n",
       "    </tr>\n",
       "    <tr>\n",
       "      <th>4</th>\n",
       "      <td>5</td>\n",
       "      <td>0</td>\n",
       "      <td>3</td>\n",
       "      <td>Allen, Mr. William Henry</td>\n",
       "      <td>male</td>\n",
       "      <td>35</td>\n",
       "      <td>0</td>\n",
       "      <td>0</td>\n",
       "      <td>373450</td>\n",
       "      <td>8.0500</td>\n",
       "      <td>NaN</td>\n",
       "      <td>S</td>\n",
       "      <td>Adult</td>\n",
       "    </tr>\n",
       "  </tbody>\n",
       "</table>\n",
       "</div>"
      ],
      "text/plain": [
       "   PassengerId  Survived  Pclass  \\\n",
       "0            1         0       3   \n",
       "1            2         1       1   \n",
       "2            3         1       3   \n",
       "3            4         1       1   \n",
       "4            5         0       3   \n",
       "\n",
       "                                                Name     Sex  Age  SibSp  \\\n",
       "0                            Braund, Mr. Owen Harris    male   22      1   \n",
       "1  Cumings, Mrs. John Bradley (Florence Briggs Th...  female   38      1   \n",
       "2                             Heikkinen, Miss. Laina  female   26      0   \n",
       "3       Futrelle, Mrs. Jacques Heath (Lily May Peel)  female   35      1   \n",
       "4                           Allen, Mr. William Henry    male   35      0   \n",
       "\n",
       "   Parch            Ticket     Fare Cabin Embarked Age_Class  \n",
       "0      0         A/5 21171   7.2500   NaN        S     Adult  \n",
       "1      0          PC 17599  71.2833   C85        C     Adult  \n",
       "2      0  STON/O2. 3101282   7.9250   NaN        S     Adult  \n",
       "3      0            113803  53.1000  C123        S     Adult  \n",
       "4      0            373450   8.0500   NaN        S     Adult  "
      ]
     },
     "execution_count": 55,
     "metadata": {},
     "output_type": "execute_result"
    }
   ],
   "source": [
    "## Preview the data and it looks as expected\n",
    "\n",
    "clean_age_titanic_df.head()"
   ]
  },
  {
   "cell_type": "code",
   "execution_count": 56,
   "metadata": {
    "collapsed": false
   },
   "outputs": [
    {
     "data": {
      "text/html": [
       "<div>\n",
       "<table border=\"1\" class=\"dataframe\">\n",
       "  <thead>\n",
       "    <tr style=\"text-align: right;\">\n",
       "      <th></th>\n",
       "      <th>Survived</th>\n",
       "      <th>Age_Class</th>\n",
       "    </tr>\n",
       "  </thead>\n",
       "  <tbody>\n",
       "    <tr>\n",
       "      <th>0</th>\n",
       "      <td>0</td>\n",
       "      <td>Adult</td>\n",
       "    </tr>\n",
       "    <tr>\n",
       "      <th>1</th>\n",
       "      <td>1</td>\n",
       "      <td>Adult</td>\n",
       "    </tr>\n",
       "    <tr>\n",
       "      <th>2</th>\n",
       "      <td>1</td>\n",
       "      <td>Adult</td>\n",
       "    </tr>\n",
       "    <tr>\n",
       "      <th>3</th>\n",
       "      <td>1</td>\n",
       "      <td>Adult</td>\n",
       "    </tr>\n",
       "    <tr>\n",
       "      <th>4</th>\n",
       "      <td>0</td>\n",
       "      <td>Adult</td>\n",
       "    </tr>\n",
       "  </tbody>\n",
       "</table>\n",
       "</div>"
      ],
      "text/plain": [
       "   Survived Age_Class\n",
       "0         0     Adult\n",
       "1         1     Adult\n",
       "2         1     Adult\n",
       "3         1     Adult\n",
       "4         0     Adult"
      ]
     },
     "execution_count": 56,
     "metadata": {},
     "output_type": "execute_result"
    }
   ],
   "source": [
    "## Get the columns we are intersted in.\n",
    "\n",
    "Survived_Age = clean_age_titanic_df[['Survived','Age_Class']]\n",
    "Survived_Age.head()"
   ]
  },
  {
   "cell_type": "code",
   "execution_count": 57,
   "metadata": {
    "collapsed": false
   },
   "outputs": [],
   "source": [
    "### Group by the Age_class column - \n",
    "\n",
    "SA_group = Survived_Age.groupby(['Age_Class'])"
   ]
  },
  {
   "cell_type": "code",
   "execution_count": 58,
   "metadata": {
    "collapsed": false
   },
   "outputs": [
    {
     "data": {
      "text/html": [
       "<div>\n",
       "<table border=\"1\" class=\"dataframe\">\n",
       "  <thead>\n",
       "    <tr style=\"text-align: right;\">\n",
       "      <th></th>\n",
       "      <th>Survived</th>\n",
       "    </tr>\n",
       "    <tr>\n",
       "      <th>Age_Class</th>\n",
       "      <th></th>\n",
       "    </tr>\n",
       "  </thead>\n",
       "  <tbody>\n",
       "    <tr>\n",
       "      <th>Adult</th>\n",
       "      <td>229</td>\n",
       "    </tr>\n",
       "    <tr>\n",
       "      <th>Child</th>\n",
       "      <td>61</td>\n",
       "    </tr>\n",
       "  </tbody>\n",
       "</table>\n",
       "</div>"
      ],
      "text/plain": [
       "           Survived\n",
       "Age_Class          \n",
       "Adult           229\n",
       "Child            61"
      ]
     },
     "execution_count": 58,
     "metadata": {},
     "output_type": "execute_result"
    }
   ],
   "source": [
    "## get the number of survivors that are children or Adults\n",
    "\n",
    "SA_sum = SA_group.sum()\n",
    "SA_sum.head()\n",
    "\n",
    "\n"
   ]
  },
  {
   "cell_type": "code",
   "execution_count": 59,
   "metadata": {
    "collapsed": false
   },
   "outputs": [
    {
     "name": "stdout",
     "output_type": "stream",
     "text": [
      "           Totals\n",
      "Age_Class        \n",
      "Adult         601\n",
      "Child         113\n"
     ]
    }
   ],
   "source": [
    "##The total number of passengers which are children or Adults\n",
    "\n",
    "## The Age counts are reduced because the Nan Values have been removed.\n",
    "\n",
    "SA_counts = pd.DataFrame(clean_age_titanic_df.groupby('Age_Class').size().rename('Totals'))\n",
    "\n",
    "\n",
    "print SA_counts"
   ]
  },
  {
   "cell_type": "code",
   "execution_count": 60,
   "metadata": {
    "collapsed": false
   },
   "outputs": [
    {
     "name": "stdout",
     "output_type": "stream",
     "text": [
      "           Survived  Totals\n",
      "Age_Class                  \n",
      "Adult           229     601\n",
      "Child            61     113\n"
     ]
    }
   ],
   "source": [
    "#Merge the two dataframes so we can compare the number of survivors in each Age groupto the total number of people in each group. \n",
    "\n",
    "SA_totals = pd.concat([SA_sum, SA_counts], axis=1, join_axes=[SA_sum.index])\n",
    "\n",
    "print SA_totals"
   ]
  },
  {
   "cell_type": "code",
   "execution_count": 61,
   "metadata": {
    "collapsed": false
   },
   "outputs": [
    {
     "name": "stdout",
     "output_type": "stream",
     "text": [
      "Populating the interactive namespace from numpy and matplotlib\n"
     ]
    },
    {
     "data": {
      "text/plain": [
       "<matplotlib.axes._subplots.AxesSubplot at 0xd2e6ed0>"
      ]
     },
     "execution_count": 61,
     "metadata": {},
     "output_type": "execute_result"
    },
    {
     "data": {
      "image/png": "[encoded data removed]",
      "text/plain": [
       "<matplotlib.figure.Figure at 0xd19ae10>"
      ]
     },
     "metadata": {},
     "output_type": "display_data"
    }
   ],
   "source": [
    "## Create a bar chart for the Age group Data\n",
    "\n",
    "%pylab inline\n",
    "import matplotlib.mlab as mlab\n",
    "import matplotlib.pyplot as plt\n",
    "\n",
    "my_Age_plot = SA_totals.plot(kind='bar', legend=None, title=\"Number of survivors - Aged 18_and_Under \")\n",
    "my_Age_plot.set_xlabel(\"Age\")\n",
    "my_Age_plot.set_ylabel(\"Survived (#)\")\n",
    "my_Age_plot.legend([\"Survived\",\"Totals\"], loc=9,ncol=3)\n",
    "my_Age_plot"
   ]
  },
  {
   "cell_type": "code",
   "execution_count": 62,
   "metadata": {
    "collapsed": false
   },
   "outputs": [
    {
     "name": "stdout",
     "output_type": "stream",
     "text": [
      "           Survived  Totals  Survival Percentage\n",
      "Age_Class                                       \n",
      "Adult           229     601            38.103161\n",
      "Child            61     113            53.982301\n"
     ]
    }
   ],
   "source": [
    "## Have a Look at the survival percentage of Under 18's compared to Over 18's.\n",
    "\n",
    "SA_Percentage = Percentage_survivors(SA_totals)\n",
    "\n",
    "print SA_Percentage\n",
    "\n",
    "\n"
   ]
  },
  {
   "cell_type": "code",
   "execution_count": 63,
   "metadata": {
    "collapsed": false
   },
   "outputs": [
    {
     "name": "stdout",
     "output_type": "stream",
     "text": [
      "Populating the interactive namespace from numpy and matplotlib\n"
     ]
    },
    {
     "data": {
      "text/plain": [
       "<matplotlib.axes._subplots.AxesSubplot at 0xd2ea8d0>"
      ]
     },
     "execution_count": 63,
     "metadata": {},
     "output_type": "execute_result"
    },
    {
     "data": {
      "image/png": "[encoded data removed]",
      "text/plain": [
       "<matplotlib.figure.Figure at 0xd3ccaf0>"
      ]
     },
     "metadata": {},
     "output_type": "display_data"
    }
   ],
   "source": [
    "## Create a Pie Chart to for the Survival Percnetage\n",
    "\n",
    "%pylab inline\n",
    "import matplotlib.mlab as mlab\n",
    "import matplotlib.pyplot as plt\n",
    "\n",
    "SA_Percentage.plot.pie(labels=['Adult', 'Child'],y= \"Survival Percentage\", figsize=(6, 4), autopct='%.2f', fontsize=10)"
   ]
  },
  {
   "cell_type": "code",
   "execution_count": 64,
   "metadata": {
    "collapsed": false
   },
   "outputs": [
    {
     "name": "stdout",
     "output_type": "stream",
     "text": [
      "           Survived\n",
      "Age_Class          \n",
      "Adult      0.381032\n",
      "Child      0.539823\n"
     ]
    }
   ],
   "source": [
    "print SA_group.mean()"
   ]
  },
  {
   "cell_type": "markdown",
   "metadata": {},
   "source": [
    "##### Hypothesis:\n",
    "\n",
    "We want to Test the Hypothesis that it was better to be a Child on the Titanic than an Adult when it came to chances of Survival.\n",
    "\n",
    "\n",
    "I. Statistical Test\n",
    "\n",
    "The Z-test for two population proportions is used when we want to know whether two population proportions (in our case Females and Males) differ significantly from  one another on some categorical variable (Survival).\n",
    "\n",
    "\n",
    "Null Hypothesis: There is no difference between the percentage of Adult survivals to that of Child survival.\n",
    "\n",
    "Alternative Hypothesis: There is a difference between the percentage of Adult survival and Child Survival.\n",
    "\n",
    "\n",
    "H0: pC - pA = 0 (\"the difference between the percentages is equal to 0\")\n",
    "H1: pC - pA ≠ 0 (\"the difference between the percentages is not equal to 0\") i.e there is a difference between them.\n",
    "\n",
    "\n",
    "\n",
    "pC is the perctange of Child Survivors\n",
    "pA is the percentage of Adult survivors.\n",
    "\n",
    "\n",
    "To perform the tests, i'll use the following conditions:\n",
    "\n",
    "  \tsignificance level α=0.05\n",
    "    Confidence Level of 95%\n",
    "    Sample size=891\n",
    "\n",
    "The Critical value and Rejection Region:\n",
    "\n",
    "For α=0.05, \n",
    "\n",
    "     Rejection region: Z > 1.96"
   ]
  },
  {
   "cell_type": "markdown",
   "metadata": {},
   "source": [
    "The formular for the Z test is:\n",
    "\n",
    "<img src=\"two-proprtion-z-test.png\">\n",
    "\n",
    "\n",
    "\n",
    "\n",
    "Step 1: Find the two proportions:\n",
    "\n",
    "* PC = 61/113  = 0.54 (that’s 54%).\n",
    "* pA = 229/601 = 0.38 (that’s 38%)\n",
    "\n",
    "\n",
    "\n",
    "Step 2: Find the overall sample proportion. The numerator will be the total number of Survivors for both Adults and Males and the denominator is the total number of Adults and Males..\n",
    "\n",
    "\n",
    "* p = (229 + 61) / (601 + 113) = 0.40\n",
    "\n",
    "<img src=\"Z_score_calculation_Age.PNG\">\n",
    "\n",
    "Solving the formula, we get:\n",
    "\n",
    "\n",
    "Z = 3.153\n",
    "\n",
    "The p-value is 0.00164. The result is significant at p <0.05. \n",
    "\n",
    "3.153 > 1.96, so we can reject the null hypothesis that there is no difference in the rates/proportion of survival between Adults and Children.\n"
   ]
  },
  {
   "cell_type": "markdown",
   "metadata": {},
   "source": [
    "\n",
    "III. Conclusion\n",
    "\n",
    "With a P value less than 0.05, survival for children represents a statistically significant difference to the rate of Adult survival.\n",
    "\n",
    "I believe that the Women and Children first on Life boats could have accounted for this behavoir. While one would assume that it might have been tougher for a child to survive on the Titanic, a bigger percnetage of children survived. this might have been due to Parents giving up thier places for their children "
   ]
  },
  {
   "cell_type": "markdown",
   "metadata": {},
   "source": [
    "##### Gender and Pclass\n",
    "\n",
    "Two variable comparison - Pclass and Gender"
   ]
  },
  {
   "cell_type": "code",
   "execution_count": 67,
   "metadata": {
    "collapsed": false
   },
   "outputs": [
    {
     "data": {
      "text/html": [
       "<div>\n",
       "<table border=\"1\" class=\"dataframe\">\n",
       "  <thead>\n",
       "    <tr style=\"text-align: right;\">\n",
       "      <th></th>\n",
       "      <th>Survived</th>\n",
       "      <th>Pclass</th>\n",
       "      <th>Sex</th>\n",
       "    </tr>\n",
       "  </thead>\n",
       "  <tbody>\n",
       "    <tr>\n",
       "      <th>0</th>\n",
       "      <td>0</td>\n",
       "      <td>3</td>\n",
       "      <td>male</td>\n",
       "    </tr>\n",
       "    <tr>\n",
       "      <th>1</th>\n",
       "      <td>1</td>\n",
       "      <td>1</td>\n",
       "      <td>female</td>\n",
       "    </tr>\n",
       "    <tr>\n",
       "      <th>2</th>\n",
       "      <td>1</td>\n",
       "      <td>3</td>\n",
       "      <td>female</td>\n",
       "    </tr>\n",
       "    <tr>\n",
       "      <th>3</th>\n",
       "      <td>1</td>\n",
       "      <td>1</td>\n",
       "      <td>female</td>\n",
       "    </tr>\n",
       "    <tr>\n",
       "      <th>4</th>\n",
       "      <td>0</td>\n",
       "      <td>3</td>\n",
       "      <td>male</td>\n",
       "    </tr>\n",
       "  </tbody>\n",
       "</table>\n",
       "</div>"
      ],
      "text/plain": [
       "   Survived  Pclass     Sex\n",
       "0         0       3    male\n",
       "1         1       1  female\n",
       "2         1       3  female\n",
       "3         1       1  female\n",
       "4         0       3    male"
      ]
     },
     "execution_count": 67,
     "metadata": {},
     "output_type": "execute_result"
    }
   ],
   "source": [
    "#### Filter out the Columns needed to look at Passenger Class and Gender based survival together\n",
    "\n",
    "Survived_group = titanic_df[['Survived','Pclass','Sex']]\n",
    "Survived_group.head()          "
   ]
  },
  {
   "cell_type": "code",
   "execution_count": 68,
   "metadata": {
    "collapsed": false
   },
   "outputs": [
    {
     "data": {
      "text/plain": [
       "<seaborn.axisgrid.FacetGrid at 0xa32b7f0>"
      ]
     },
     "execution_count": 68,
     "metadata": {},
     "output_type": "execute_result"
    },
    {
     "data": {
      "image/png": "[encoded data removed]",
      "text/plain": [
       "<matplotlib.figure.Figure at 0xd0a33f0>"
      ]
     },
     "metadata": {},
     "output_type": "display_data"
    }
   ],
   "source": [
    "sns.factorplot(data=Survived_group, x=\"Sex\", y=\"Survived\", col=\"Pclass\")  "
   ]
  },
  {
   "cell_type": "code",
   "execution_count": null,
   "metadata": {
    "collapsed": false
   },
   "outputs": [],
   "source": [
    "## Group the number of survivors by Passenger Class and Gender\n",
    "\n",
    "Survived_cat = Survived_group.groupby(['Pclass','Sex']).sum()\n",
    "Survived_cat.head()"
   ]
  },
  {
   "cell_type": "code",
   "execution_count": null,
   "metadata": {
    "collapsed": false
   },
   "outputs": [],
   "source": [
    "Survived_cat.unstack().head()"
   ]
  },
  {
   "cell_type": "code",
   "execution_count": null,
   "metadata": {
    "collapsed": false
   },
   "outputs": [],
   "source": [
    "## Use a plot to visually inspect the data\n",
    "\n",
    "my_double_plot = Survived_cat.unstack().plot(kind='bar',stacked=True, title=\"Number of Survivors\", figsize=(6, 6), color=['m', 'b'])\n",
    "my_double_plot.set_xlabel(\"Pclass\")\n",
    "my_double_plot.set_ylabel(\"Survivors (#)\")\n",
    "my_double_plot.legend([\"female\",\"male\"], loc=9,ncol=3)\n"
   ]
  },
  {
   "cell_type": "code",
   "execution_count": null,
   "metadata": {
    "collapsed": false
   },
   "outputs": [],
   "source": [
    "import pandas as pd\n",
    "import statsmodels.api as sm\n",
    "from statsmodels.formula.api import ols\n",
    "\n",
    "\n",
    "s_group_lm=ols('Survived ~ C(Sex) * C(Pclass)', data=Survived_group).fit() #Specify C for Categorical\n",
    "print(sm.stats.anova_lm(s_group_lm, typ=2))"
   ]
  },
  {
   "cell_type": "markdown",
   "metadata": {},
   "source": [
    "We have strong evidence here that there are differences between the three Passenger classes, between the 2 genders and that there is an interaction between Gender and Passenger Class. \n",
    "\n"
   ]
  },
  {
   "cell_type": "markdown",
   "metadata": {},
   "source": [
    "#### Conclusion\n"
   ]
  },
  {
   "cell_type": "markdown",
   "metadata": {},
   "source": [
    "The dataset used is a subset of the data - with 891 observations and there were 2224 passengers on the titanic. Some of the variable might be over -represented in this sample data that we have.\n",
    "\n",
    "For example, we could have had more survivors in First Class (Pclass) in this sample data then we had for Third Class; This would affect any analysis or conclusions that are made.\n",
    "\n",
    "\n",
    "\n",
    "In Sum, we can see that being a female and being in First class was very good survival. Additionally, being Under 18 was also very  good for suvival on the titanic. As we know that correlation does not equal causation, I can only advise that next time you're on an 'Unsinkable' ship,if you're female and Under 18, relax and enjoy the trip but if you're Male, buy a First Class Ticket!\n",
    "\n",
    "\n",
    "Having Looked at the Variables in this dataset, I would be further interested in analysing the follwing variables to investgate the impact having a Large family or being part of a family could have on Survival,\n",
    "\n",
    "sibsp           Number of Siblings/Spouses Aboard\n",
    "parch           Number of Parents/Children Aboard"
   ]
  },
  {
   "cell_type": "markdown",
   "metadata": {},
   "source": [
    "Resources\n",
    "\n",
    "http://www.socscistatistics.com/tests/ztest/\n",
    "    \n",
    "    "
   ]
  }
 ],
 "metadata": {
  "anaconda-cloud": {},
  "kernelspec": {
   "display_name": "Python [Root]",
   "language": "python",
   "name": "Python [Root]"
  },
  "language_info": {
   "codemirror_mode": {
    "name": "ipython",
    "version": 2
   },
   "file_extension": ".py",
   "mimetype": "text/x-python",
   "name": "python",
   "nbconvert_exporter": "python",
   "pygments_lexer": "ipython2",
   "version": "2.7.12"
  }
 },
 "nbformat": 4,
 "nbformat_minor": 0
}
